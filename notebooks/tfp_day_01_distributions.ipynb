{
  "nbformat": 4,
  "nbformat_minor": 0,
  "metadata": {
    "colab": {
      "name": "tfp_day_01_distributions.ipynb",
      "provenance": []
    },
    "kernelspec": {
      "name": "python3",
      "display_name": "Python 3"
    }
  },
  "cells": [
    {
      "cell_type": "markdown",
      "metadata": {
        "id": "FHMw9aWbHfTH",
        "colab_type": "text"
      },
      "source": [
        "# TensorFlow Probability Distributions  \n",
        "### Day 1/100 Days Of TensorFlow Probability  \n",
        "\n",
        "Today is Day 1 of my 100 Days of TensorFlow Probability! Today, I am going to explore distributions. This is going to be a slow start - all I want to do is to sample from distributions. Nothing fancy, but the foundation of probabilistic programming, so it seems like a good place to start.\n",
        "\n",
        "I am going to pick & choose parts of the TFP Examples. Specifically:  \n",
        "\n",
        "  - https://github.com/tensorflow/probability/blob/master/tensorflow_probability/examples/jupyter_notebooks/A_Tour_of_TensorFlow_Probability.ipynb  \n",
        "  - https://github.com/tensorflow/probability/blob/master/tensorflow_probability/examples/jupyter_notebooks/TensorFlow_Distributions_Tutorial.ipynb  \n",
        "  - https://github.com/tensorflow/probability/blob/master/tensorflow_probability/examples/jupyter_notebooks/Understanding_TensorFlow_Distributions_Shapes.ipynb  \n",
        "  \n",
        "Note, that I am going to do this in Google Colab, which is already setup with tensorflow and tensorflow probability. Let's get cracking."
      ]
    },
    {
      "cell_type": "code",
      "metadata": {
        "id": "FhdqxZwuHHlX",
        "colab_type": "code",
        "colab": {}
      },
      "source": [
        "import collections\n",
        "\n",
        "import tensorflow as tf\n",
        "import tensorflow_probability as tfp\n",
        "tfd = tfp.distributions\n",
        "\n",
        "try:\n",
        "  tf.compat.v1.enable_eager_execution()\n",
        "except ValueError:\n",
        "  pass\n",
        "\n",
        "import matplotlib.pyplot as plt\n",
        "\n",
        "from __future__ import print_function"
      ],
      "execution_count": 0,
      "outputs": []
    },
    {
      "cell_type": "markdown",
      "metadata": {
        "id": "cVGjsrI-JEFG",
        "colab_type": "text"
      },
      "source": [
        "### Univariate Sampling Distributions  \n",
        "\n",
        "It's really easy to sample from univariate distributions. If you have ever done this in numpy or R, then this will look really familiar to you. The only difference, is that TFP is object oriented - so first, we will instantiate a distribution to sample from, then we will call the sample method.\n",
        "\n",
        "For example, here is a sample from a normal distribution with $\\mu = 3, \\sigma = 2$:"
      ]
    },
    {
      "cell_type": "code",
      "metadata": {
        "id": "VsDrS5c9HdQ4",
        "colab_type": "code",
        "colab": {
          "base_uri": "https://localhost:8080/",
          "height": 187
        },
        "outputId": "611f5699-f32e-410b-f3bd-a22fe9cbf64b"
      },
      "source": [
        "# instantiate our distribution\n",
        "gaussian = tfd.Normal(loc = 3.0, scale = 2.0)\n",
        "\n",
        "# sample...\n",
        "for x in range(10):\n",
        "  print(\"Sample {} from our gaussian: \\t{:.2f}\".format(x, gaussian.sample()))"
      ],
      "execution_count": 12,
      "outputs": [
        {
          "output_type": "stream",
          "text": [
            "Sample 0 from our gaussian: \t2.45\n",
            "Sample 1 from our gaussian: \t2.30\n",
            "Sample 2 from our gaussian: \t3.57\n",
            "Sample 3 from our gaussian: \t-0.87\n",
            "Sample 4 from our gaussian: \t1.07\n",
            "Sample 5 from our gaussian: \t2.25\n",
            "Sample 6 from our gaussian: \t2.98\n",
            "Sample 7 from our gaussian: \t-0.36\n",
            "Sample 8 from our gaussian: \t8.83\n",
            "Sample 9 from our gaussian: \t2.60\n"
          ],
          "name": "stdout"
        }
      ]
    },
    {
      "cell_type": "markdown",
      "metadata": {
        "id": "JZH3oKsjKa0y",
        "colab_type": "text"
      },
      "source": [
        "Of course, we can simulate (sample) from this distribution *en masse* and plot the results:"
      ]
    },
    {
      "cell_type": "code",
      "metadata": {
        "id": "yStWwIwYHdiM",
        "colab_type": "code",
        "colab": {
          "base_uri": "https://localhost:8080/",
          "height": 283
        },
        "outputId": "a1fd7d1a-f728-4626-ace5-f6052c3c80f6"
      },
      "source": [
        "xs = gaussian.sample(100000)\n",
        "\n",
        "plt.hist(xs, bins=30, color='dodgerblue', alpha=0.5)\n",
        "plt.axvline(x = 3.0)\n",
        "plt.title(\"Simulating from our Gaussian with $\\mu = 3, \\sigma=2$\")\n",
        "plt.show()"
      ],
      "execution_count": 24,
      "outputs": [
        {
          "output_type": "display_data",
          "data": {
            "image/png": "[encoded data removed]",
            "text/plain": [
              "<Figure size 432x288 with 1 Axes>"
            ]
          },
          "metadata": {
            "tags": []
          }
        }
      ]
    },
    {
      "cell_type": "markdown",
      "metadata": {
        "id": "_sRRbXP1Obdj",
        "colab_type": "text"
      },
      "source": [
        "So far so good - just like numpy or R. I'm happy with that. \n",
        "\n",
        "\n",
        "### \"Stacking Simulations\"\n",
        "\n",
        "Let's get a little more creative and start to combine distributions together. First, let's sample a rate from a Gamma distribution and then use this rate to simulate from a Poisson distribution. We'll begin by sampling a rate from the Gamma:"
      ]
    },
    {
      "cell_type": "code",
      "metadata": {
        "id": "QEMHnBJRNJbv",
        "colab_type": "code",
        "colab": {
          "base_uri": "https://localhost:8080/",
          "height": 283
        },
        "outputId": "d4f60a5d-deb6-4d94-e5bf-0855e70cb73f"
      },
      "source": [
        "rv_gamma = tfd.Gamma(concentration = 1.0, rate = 1.0 / 5.0)\n",
        "simulation = rv_gamma.sample(10000)\n",
        "\n",
        "plt.hist(simulation, bins=20, color='dodgerblue', alpha=.5)\n",
        "plt.axvline(x = rv_gamma.mean().numpy())\n",
        "plt.title(\"A Gamma distribtion with $E[x] = {:1.2f}$\".format(rv_gamma.mean()))\n",
        "plt.show()\n"
      ],
      "execution_count": 47,
      "outputs": [
        {
          "output_type": "display_data",
          "data": {
            "image/png": "[encoded data removed]",
            "text/plain": [
              "<Figure size 432x288 with 1 Axes>"
            ]
          },
          "metadata": {
            "tags": []
          }
        }
      ]
    },
    {
      "cell_type": "markdown",
      "metadata": {
        "id": "FT39PVncRldo",
        "colab_type": "text"
      },
      "source": [
        "There are a couple of points in the above code which I want to highlight. First, notice that I have included a prefix of `rv_` to the Gamma object. This stands for \"random variable\", i.e. this object is a random variable which is drawn from a Gamma distribution. This seems to be a coding standard in the tfp world.\n",
        "\n",
        "Second, notice that I have used the `.mean()` method of our random variable. These being objects, there are a bunch of methods which we can call on for example: mean, median, stddev, log_prob, entropy...\n",
        "\n",
        "Finally, the samples which we drew and stored in the variable `simulation` are a tensor. Similarly, the `.mean()` method also returns a tensor. Matplotlib will throw an error if you try to pass this tensor directly into the `plt.axvline()` call. This is why we used the `.numpy()` method to extract the data value from the tensor.\n",
        "\n",
        "\n",
        "I'm starting to feel a little more comfortable with this now. So let's extend this. Let us assume that we have a bunch of count data which is Poisson distributed with a known rate. Simulating from this would give us a good approximation of our data:"
      ]
    },
    {
      "cell_type": "code",
      "metadata": {
        "id": "FI9YRYqMPI00",
        "colab_type": "code",
        "colab": {
          "base_uri": "https://localhost:8080/",
          "height": 283
        },
        "outputId": "0b4465ec-0000-4d2d-f93d-21a410396b94"
      },
      "source": [
        "lambda_ = rv_gamma.sample()\n",
        "rv_poisson = tfd.Poisson(lambda_)\n",
        "\n",
        "plt.hist(rv_poisson.sample(100000), bins=30, color='dodgerblue', alpha=.5)\n",
        "plt.axvline(x = lambda_.numpy())\n",
        "plt.title(\"A Poisson with $E[x] = {:1.2f}$\".format(lambda_))\n",
        "plt.show()"
      ],
      "execution_count": 53,
      "outputs": [
        {
          "output_type": "display_data",
          "data": {
            "image/png": "[encoded data removed]",
            "text/plain": [
              "<Figure size 432x288 with 1 Axes>"
            ]
          },
          "metadata": {
            "tags": []
          }
        }
      ]
    },
    {
      "cell_type": "markdown",
      "metadata": {
        "id": "MIxkvCsKTv3s",
        "colab_type": "text"
      },
      "source": [
        "Depending on the random draw, the expected value above is unlikely to be exactly 5 (the rate we defined for the Gamma). This is because the sampled rate, `lambda_`, is an indpedent draw from our Gamma. If we were to draw many samples from our Gamma, the expected value would eventually converge to 5, but we would also get a sense of the variability of this random variable.\n",
        "\n",
        "This is closer to the real world. It is rare that we would know everything about our process. For example, we are all comfortable that people are different heights and that is we randomly measured people, there would be variability in those measured heights. However, most of us (naively) assume that the mean value is a real, fixed, unvarying amount. Concretely, most people are happy to say that \"people are of varying heights\", but they would be less comfortable with the idea that \"the average height\" is also a varying quantity...\n",
        "\n",
        "It's an important concept. Think of a business intelligence dashboard and classic \"analytics\" where we report summary stats, like the mean. Very, very few business people would be comfortable with the idea that the mean itself has uncertainty associated with it.\n",
        "\n",
        "The good news, is that we can simulate this. Let's go back to our Poisson simulation and instead of drawing a *single rate from `rv_gamma`*, let's draw a range of rates from this distribution and pass all of these to our Poisson simulation. This way, we will get a better sense for the true variability.\n",
        "\n",
        "\n",
        "We will do this below. First however, I am going to adjust our Gamma distribution slightly so that it is centered more strongly around 5 (let us assume that the true rate is close to this value):"
      ]
    },
    {
      "cell_type": "code",
      "metadata": {
        "id": "AziG1FCyQAaA",
        "colab_type": "code",
        "colab": {
          "base_uri": "https://localhost:8080/",
          "height": 283
        },
        "outputId": "b5bb0fd8-ac0f-475f-dabc-70398a0ffe1f"
      },
      "source": [
        "\n",
        "rv_gamma2 = tfd.Gamma(5., 1.)\n",
        "lambdas_ = rv_gamma2.sample(100)\n",
        "rv_poisson = tfd.Poisson(lambdas_)\n",
        "\n",
        "plt.hist(rv_poisson.sample(10000).numpy().ravel(), bins=50, color='dodgerblue', alpha=.5)\n",
        "plt.axvline(x = rv_poisson.sample().numpy().mean())\n",
        "plt.title(\"A Poisson with $E[x] = {:1.2f}$\".format(rv_poisson.sample().numpy().mean()))\n",
        "plt.show()"
      ],
      "execution_count": 97,
      "outputs": [
        {
          "output_type": "display_data",
          "data": {
            "image/png": "[encoded data removed]",
            "text/plain": [
              "<Figure size 432x288 with 1 Axes>"
            ]
          },
          "metadata": {
            "tags": []
          }
        }
      ]
    },
    {
      "cell_type": "markdown",
      "metadata": {
        "id": "LH6L_rFiZc9A",
        "colab_type": "text"
      },
      "source": [
        "This is a truer picture of our \"poisson process\". Notice that we have a slightly higher amount of variability and values >10 are much more likely in this second simulation than they were in our first simulation. This is a very \"real world\" type of phenomenon.\n",
        "\n",
        "### Unpacking our \"stacked simulation\"  \n",
        "\n",
        "It's probably worth taking a moment or two to inspect our two simulations above: the simulation from the gamma distribution and the simulation from the poisson.\n",
        "\n",
        "The concept of \"shape\" is central to tensorflow and has been adopted by tensorflow probability. When we sample from the gamma distribution, we get a tensor where `shape = (n_samples,)`. Here is an example with 5 samples drawn from our gamma distribution:"
      ]
    },
    {
      "cell_type": "code",
      "metadata": {
        "id": "qGYR2CTVScZu",
        "colab_type": "code",
        "colab": {
          "base_uri": "https://localhost:8080/",
          "height": 68
        },
        "outputId": "901ca1e7-6cf7-4620-db70-2c93fb62446a"
      },
      "source": [
        "rates = rv_gamma2.sample(5)\n",
        "rates"
      ],
      "execution_count": 98,
      "outputs": [
        {
          "output_type": "execute_result",
          "data": {
            "text/plain": [
              "<tf.Tensor: id=4537, shape=(5,), dtype=float32, numpy=\n",
              "array([5.096189 , 2.4959877, 3.958752 , 3.8258288, 1.0565171],\n",
              "      dtype=float32)>"
            ]
          },
          "metadata": {
            "tags": []
          },
          "execution_count": 98
        }
      ]
    },
    {
      "cell_type": "markdown",
      "metadata": {
        "id": "FU6KmnjrbsXa",
        "colab_type": "text"
      },
      "source": [
        "Similarly, if we draw three samples from our Poisson, we get a shape of `(3,)`:"
      ]
    },
    {
      "cell_type": "code",
      "metadata": {
        "id": "64zF3FI-XyfJ",
        "colab_type": "code",
        "colab": {
          "base_uri": "https://localhost:8080/",
          "height": 34
        },
        "outputId": "53052f67-465b-432a-b1d2-441f9656cd52"
      },
      "source": [
        "rv_poisson = tfd.Poisson(rv_gamma2.sample())\n",
        "counts = rv_poisson.sample(3)\n",
        "counts"
      ],
      "execution_count": 100,
      "outputs": [
        {
          "output_type": "execute_result",
          "data": {
            "text/plain": [
              "<tf.Tensor: id=4588, shape=(3,), dtype=float32, numpy=array([ 4.,  9., 10.], dtype=float32)>"
            ]
          },
          "metadata": {
            "tags": []
          },
          "execution_count": 100
        }
      ]
    },
    {
      "cell_type": "markdown",
      "metadata": {
        "id": "VoVf3_2qcEUc",
        "colab_type": "text"
      },
      "source": [
        "Notice above, that I have reinstantiated the Poisson distribution with a *single draw from the Gamma*. This single draw has aa shape of `(1,)` and when we pass this to our Poisson distribution, the result is that our Poisson distribution will have this shape.\n",
        "\n",
        "If however, we pass in our rates which are of shape `(5,)`, then our Poisson distribution will also have a shape of `(5,)`. You can think of this as 5 separate Poisson distributions. Then, when we ask for 3 samples from our Poisson, we actually get 15 (3 samples from each of our 5 different Poissons):"
      ]
    },
    {
      "cell_type": "code",
      "metadata": {
        "id": "b1ocA145ZtQA",
        "colab_type": "code",
        "colab": {
          "base_uri": "https://localhost:8080/",
          "height": 34
        },
        "outputId": "af00852d-e958-49b9-f3c6-d71b545f230b"
      },
      "source": [
        "rv_poisson = tfd.Poisson(rv_gamma2.sample(5))\n",
        "rv_poisson"
      ],
      "execution_count": 101,
      "outputs": [
        {
          "output_type": "execute_result",
          "data": {
            "text/plain": [
              "<tfp.distributions.Poisson 'Poisson/' batch_shape=[5] event_shape=[] dtype=float32>"
            ]
          },
          "metadata": {
            "tags": []
          },
          "execution_count": 101
        }
      ]
    },
    {
      "cell_type": "code",
      "metadata": {
        "id": "2LwguIpfWaAU",
        "colab_type": "code",
        "colab": {
          "base_uri": "https://localhost:8080/",
          "height": 85
        },
        "outputId": "1664f029-645d-4efd-90fb-7bda8aeb7305"
      },
      "source": [
        "counts = rv_poisson.sample(3)\n",
        "counts"
      ],
      "execution_count": 102,
      "outputs": [
        {
          "output_type": "execute_result",
          "data": {
            "text/plain": [
              "<tf.Tensor: id=4625, shape=(3, 5), dtype=float32, numpy=\n",
              "array([[ 4.,  3.,  4., 11.,  3.],\n",
              "       [ 3.,  5.,  3.,  9.,  1.],\n",
              "       [ 3.,  3.,  4.,  7.,  2.]], dtype=float32)>"
            ]
          },
          "metadata": {
            "tags": []
          },
          "execution_count": 102
        }
      ]
    },
    {
      "cell_type": "markdown",
      "metadata": {
        "id": "274oK7u4dQ25",
        "colab_type": "text"
      },
      "source": [
        "Distributions & their shapes are explained (at length...) in this tutorial notebook: https://github.com/tensorflow/probability/blob/master/tensorflow_probability/examples/jupyter_notebooks/Understanding_TensorFlow_Distributions_Shapes.ipynb  \n",
        "\n",
        "I think this will do for Day One."
      ]
    },
    {
      "cell_type": "code",
      "metadata": {
        "id": "C_FxfltVXLcK",
        "colab_type": "code",
        "colab": {}
      },
      "source": [
        ""
      ],
      "execution_count": 0,
      "outputs": []
    }
  ]
}