{
  "nbformat": 4,
  "nbformat_minor": 0,
  "metadata": {
    "colab": {
      "name": "tfp_day15_8Schools.ipynb",
      "provenance": []
    },
    "kernelspec": {
      "name": "python3",
      "display_name": "Python 3"
    }
  },
  "cells": [
    {
      "cell_type": "markdown",
      "metadata": {
        "id": "jRMA0h6r7cb1",
        "colab_type": "text"
      },
      "source": [
        "## Tensorflow Probability - Hierarchical Meta-Analysis  \n",
        "### Day 15-16/100 Days of TensorFlow Probability  \n",
        "\n",
        "We're pretty much in full swing now. I've got MCMC working, using the NUTS sampler and the code is reasonably concise and intuitive. We've reached the point where we can start to tackle some really interesting analyses. Today I want to cover two things: I want to start to look at MCMC chain diagnostics and also begin to look at hierarchical modelling. \n",
        "\n",
        "For the cahin diagnostics, I will draw from [Adam Haber's great blog post](https://adamhaber.github.io/2019/10/21/Bayesian-golf-puttings,-NUTS,-and-optimizing-your-sampling-function-with-TensorFlow-Probability.html). And we will kick off our hierarchical journey with the eight schools problem from BDA3 (see the [RStan impelentation here](https://github.com/stan-dev/rstan/wiki/RStan-Getting-Started)).\n",
        "\n",
        "\n",
        "### Setup  \n",
        "\n",
        "We'll continue to use the NoUTurn Sampler from here on in. We need to make sure we have TFP version 0.8.0, then we'll create our helper functions for the sampler and for running the chains.\n",
        "\n",
        "I am also going to install the arviz package, which we will use for the chain diagnostics (more on this later)."
      ]
    },
    {
      "cell_type": "code",
      "metadata": {
        "id": "kPxS_hzbIZ7x",
        "colab_type": "code",
        "colab": {}
      },
      "source": [
        "! pip3 install -q --upgrade tensorflow-probability==0.8.0\n",
        "! pip3 install -q arviz"
      ],
      "execution_count": 0,
      "outputs": []
    },
    {
      "cell_type": "code",
      "metadata": {
        "id": "HwYAhNb8IbPu",
        "colab_type": "code",
        "outputId": "eed3d324-a01a-4776-a391-508602136775",
        "colab": {
          "base_uri": "https://localhost:8080/",
          "height": 34
        }
      },
      "source": [
        "import tensorflow_probability as tfp\n",
        "\n",
        "tfp.__version__"
      ],
      "execution_count": 13,
      "outputs": [
        {
          "output_type": "execute_result",
          "data": {
            "text/plain": [
              "'0.8.0'"
            ]
          },
          "metadata": {
            "tags": []
          },
          "execution_count": 13
        }
      ]
    },
    {
      "cell_type": "markdown",
      "metadata": {
        "id": "UFOhoWcnI7ds",
        "colab_type": "text"
      },
      "source": [
        "We'll define our basic reset_sess() function..."
      ]
    },
    {
      "cell_type": "code",
      "metadata": {
        "id": "XvluCdg8I3zm",
        "colab_type": "code",
        "colab": {}
      },
      "source": [
        "import collections\n",
        "import numpy as np\n",
        "import pandas as pd\n",
        "import seaborn as sns\n",
        "import arviz as az\n",
        "\n",
        "import tensorflow as tf\n",
        "import tensorflow_probability as tfp\n",
        "tfd = tfp.distributions\n",
        "tfb = tfp.bijectors\n",
        "\n",
        "try:\n",
        "  tf.compat.v1.enable_eager_execution()\n",
        "except ValueError:\n",
        "  pass\n",
        "\n",
        "import matplotlib.pyplot as plt\n",
        "\n",
        "from __future__ import print_function\n",
        "\n",
        "def reset_sess(config=None):\n",
        "    \"\"\"\n",
        "    Convenience function to create the TF graph & session or reset them.\n",
        "    \"\"\"\n",
        "\n",
        "    global sess\n",
        "    tf.reset_default_graph()\n",
        "    try:\n",
        "        sess.close()\n",
        "    except:\n",
        "        pass\n",
        "    sess = tf.InteractiveSession(config=config)"
      ],
      "execution_count": 0,
      "outputs": []
    },
    {
      "cell_type": "markdown",
      "metadata": {
        "id": "NlxICZlRJhfG",
        "colab_type": "text"
      },
      "source": [
        "### MCMC Chain diagnostics  \n",
        "\n",
        "We'll be using the `ArviZ` package to interrogate the state of our MCMC chains. This was originally developed for PyMC3, and also has support for PyStan. The team are currently working on extending this to PyMC4, Tensorflow Probability and Edward.\n",
        "\n",
        "You can [read the documentation here](https://arviz-devs.github.io/arviz/). [Adam Haber also has a great section describing it](https://adamhaber.github.io/2019/10/21/Bayesian-golf-puttings,-NUTS,-and-optimizing-your-sampling-function-with-TensorFlow-Probability.html). I am going to blatantly \"borrow\" Haber's `tfp_trace_to_arviz()` function (thank you!)\n",
        "\n",
        "**UPDATE:** ArviZ now has a `from_tfp` method, which takes the posterior estimates and plots the chain. So, I don't need the method below any more.\n",
        "\n"
      ]
    },
    {
      "cell_type": "code",
      "metadata": {
        "id": "xWCR0kWzJL8E",
        "colab_type": "code",
        "colab": {}
      },
      "source": [
        "# using pymc3 naming conventions, with log_likelihood instead of lp so that ArviZ can compute loo and waic\n",
        "sample_stats_name = ['log_likelihood','tree_size','diverging','energy','mean_tree_accept']\n",
        "\n",
        "def tfp_trace_to_arviz(\n",
        "    tfp_trace,\n",
        "    var_names=None, \n",
        "    sample_stats_name=sample_stats_name):\n",
        "    \n",
        "    samps, trace = tfp_trace\n",
        "    if var_names is None:\n",
        "        var_names = [\"var \" + str(x) for x in range(len(samps))]\n",
        "        \n",
        "    sample_stats = {k:v.numpy().T for k, v in zip(sample_stats_name, trace)}\n",
        "    posterior = {name : tf.transpose(samp, [1, 0, 2]).numpy() for name, samp in zip(var_names, samps)}\n",
        "    return az.from_dict(posterior=posterior, sample_stats=sample_stats)"
      ],
      "execution_count": 0,
      "outputs": []
    },
    {
      "cell_type": "markdown",
      "metadata": {
        "id": "uoDigbhnKr1G",
        "colab_type": "text"
      },
      "source": [
        "There are a number of sampling statistics that we need to collect as our MCMC chains sample. Again, I am going to take this directly from Adam Haber's post. There is a [great little notebook](https://docs.pymc.io/notebooks/sampler-stats.html) about sampling statistics from PyMC3 which is well worth a read!\n",
        "\n",
        "Let's define our `trace_fn` method, note that the objects below are the same as the `sample_stats_name` above."
      ]
    },
    {
      "cell_type": "code",
      "metadata": {
        "id": "QY337BQeN8xt",
        "colab_type": "code",
        "colab": {}
      },
      "source": [
        "def trace_fn(_, pkr):  \n",
        "    return (\n",
        "        pkr.inner_results.inner_results.target_log_prob,\n",
        "        pkr.inner_results.inner_results.leapfrogs_taken,\n",
        "        pkr.inner_results.inner_results.has_divergence,\n",
        "        pkr.inner_results.inner_results.energy,\n",
        "        pkr.inner_results.inner_results.log_accept_ratio\n",
        "    )"
      ],
      "execution_count": 0,
      "outputs": []
    },
    {
      "cell_type": "markdown",
      "metadata": {
        "id": "IoyfoQHtJGt0",
        "colab_type": "text"
      },
      "source": [
        "The `trace_fn` will be passed into our `sample_chain` method. Other than that, there isn't really any changes that we need to make to the code, which is heopfully now becoming familiar. We will:  \n",
        "\n",
        "  1. define the NUTS method  \n",
        "  2. define the sample_chain method  \n",
        "\n",
        "However, I was inspired by Haber's `run_nots_template()` method, which seems to be a nice little wrapper function. I want something similar to Stan's `sampling()` function..."
      ]
    },
    {
      "cell_type": "code",
      "metadata": {
        "id": "dc7gh1iNOgMz",
        "colab_type": "code",
        "colab": {}
      },
      "source": [
        "def sampler(\n",
        "    model = None,    # log-probability function\n",
        "    nparams = None,  # number of parameters\n",
        "    inits = None,    # initialisation for parameters\n",
        "    trace_fn = None, # trace function\n",
        "    iters = 2000,    # number of MCMC iterations\n",
        "    warmup = 1000,   # warmup iterations\n",
        "    chains = 1,\n",
        "    bijectors_list = None):\n",
        "  \n",
        "  if not isinstance(inits, list):\n",
        "    inits = [0.01] * nparams\n",
        "\n",
        "  # I don't understand this part yet...\n",
        "  # Dig into this in the future\n",
        "  if bijectors_list is None:\n",
        "    bijectors_list = [tfb.Identity()] * nparams\n",
        "\n",
        "  kernel = tfp.mcmc.DualAveragingStepSizeAdaptation(\n",
        "        tfp.mcmc.TransformedTransitionKernel(\n",
        "            inner_kernel=tfp.mcmc.NoUTurnSampler(\n",
        "                target_log_prob_fn = model,\n",
        "                step_size=1.0\n",
        "            ),\n",
        "            bijector=[tfb.Identity()] * nparams\n",
        "        ),\n",
        "        target_accept_prob=.8,\n",
        "        num_adaptation_steps=np.floor(0.5*warmup),\n",
        "        step_size_setter_fn=lambda pkr, new_step_size: pkr._replace(\n",
        "              inner_results=pkr.inner_results._replace(step_size=new_step_size)\n",
        "          ),\n",
        "        step_size_getter_fn=lambda pkr: pkr.inner_results.step_size,\n",
        "        log_accept_prob_getter_fn=lambda pkr: pkr.inner_results.log_accept_ratio,\n",
        "    )\n",
        "\n",
        "  samples, trace = tfp.mcmc.sample_chain(\n",
        "      num_results = iters,\n",
        "      num_burnin_steps = warmup,\n",
        "      current_state = inits,\n",
        "      kernel = kernel,\n",
        "      trace_fn = trace_fn\n",
        "  )\n",
        "\n",
        "  return [samples, trace]\n",
        "\n",
        "# compile the sampler\n",
        "run_sampler = tf.function(sampler, autograph = False, experimental_compile = True)"
      ],
      "execution_count": 0,
      "outputs": []
    },
    {
      "cell_type": "markdown",
      "metadata": {
        "id": "aT-NEmvGUhCB",
        "colab_type": "text"
      },
      "source": [
        "You'll notice above that I have \"pre-compiled\" the `sampler()` function by passing it to `tf.function()`. Haber describes this in his post but in brief: this converts our function into a `tf.Graph` and *massivley* speeds up the execution of the method. \n",
        "\n",
        "I need to dig into this a bit more in the future. Haber points to the following resources:  \n",
        "\n",
        "  - [Better performance with tf.function and AutoGraph](https://www.tensorflow.org/guide/function)  \n",
        "  - [tf.function](https://www.tensorflow.org/api_docs/python/tf/function)  \n",
        "  - [XLA: Optimizing Compiler for Machine Learning](https://www.tensorflow.org/xla)  \n",
        "  \n",
        "\n",
        "Quickly, before we move onto the eight schools model, let's convince ourselves that our sampler is working. I will estimate the rate of a known poisson process:"
      ]
    },
    {
      "cell_type": "code",
      "metadata": {
        "id": "_FAoV9K-R7My",
        "colab_type": "code",
        "outputId": "34f3d364-f3de-41b6-ebbf-b38be7312175",
        "colab": {
          "base_uri": "https://localhost:8080/",
          "height": 265
        }
      },
      "source": [
        "rv_poisson = tfd.Poisson(rate = 5)\n",
        "data = rv_poisson.sample(100)\n",
        "\n",
        "plt.plot(range(100), data.numpy())\n",
        "plt.show()"
      ],
      "execution_count": 6,
      "outputs": [
        {
          "output_type": "display_data",
          "data": {
            "image/png": "[encoded data removed]",
            "text/plain": [
              "<Figure size 432x288 with 1 Axes>"
            ]
          },
          "metadata": {
            "tags": []
          }
        }
      ]
    },
    {
      "cell_type": "code",
      "metadata": {
        "id": "p-_RSv7wSBnQ",
        "colab_type": "code",
        "outputId": "f07587ce-17c0-428e-ce46-650ca35416d8",
        "colab": {
          "base_uri": "https://localhost:8080/",
          "height": 549
        }
      },
      "source": [
        "reset_sess()\n",
        "\n",
        "def joint_log_prob(counts, estimated_rate):\n",
        "  \"\"\"\n",
        "  Model our known poisson process\n",
        "  \"\"\"\n",
        "  \n",
        "  prior_rate = tfd.HalfCauchy(0., 1.)\n",
        "  rv_count = tfd.Poisson(rate = estimated_rate)\n",
        "  \n",
        "  log_lik = (\n",
        "      prior_rate.log_prob(estimated_rate) +\n",
        "      tf.reduce_sum(rv_count.log_prob(counts))\n",
        "  )\n",
        "  \n",
        "  return log_lik\n",
        "\n",
        "def unnormalised_posterior(estimated_rate):\n",
        "  return joint_log_prob(data, estimated_rate)\n",
        "  \n",
        "[rate_, trace] = run_sampler(\n",
        "    model = unnormalised_posterior,\n",
        "    nparams = 1,\n",
        "    trace_fn = trace_fn\n",
        ")\n",
        "\n",
        "sns.distplot(rate_, label = \"posterior\")\n",
        "plt.axvline(x = data.numpy().mean(), color = 'red')\n",
        "plt.title(\"$\\\\lambda (mean = {:.3f})$\".format(np.mean(rate_)))\n",
        "plt.show()\n",
        "\n",
        "trace1 = az.from_tfp(rate_, var_names = [\"lambda\"])\n",
        "az.plot_trace(trace1)\n",
        "\n",
        "az.summary(trace1)"
      ],
      "execution_count": 8,
      "outputs": [
        {
          "output_type": "display_data",
          "data": {
            "image/png": "[encoded data removed]",
            "text/plain": [
              "<Figure size 432x288 with 1 Axes>"
            ]
          },
          "metadata": {
            "tags": []
          }
        },
        {
          "output_type": "stream",
          "text": [
            "/usr/local/lib/python3.6/dist-packages/IPython/core/interactiveshell.py:2882: UserWarning: tfp.edward2 module is deprecated and will be removed on 2019-12-01. Use https://github.com/google/edward2 library instead.\n",
            "  exec(code_obj, self.user_global_ns, self.user_ns)\n",
            "arviz.stats.stats_utils - WARNING - Shape validation failed: input_shape: (1, 2000), minimum_shape: (chains=2, draws=4)\n"
          ],
          "name": "stderr"
        },
        {
          "output_type": "execute_result",
          "data": {
            "text/html": [
              "<div>\n",
              "<style scoped>\n",
              "    .dataframe tbody tr th:only-of-type {\n",
              "        vertical-align: middle;\n",
              "    }\n",
              "\n",
              "    .dataframe tbody tr th {\n",
              "        vertical-align: top;\n",
              "    }\n",
              "\n",
              "    .dataframe thead th {\n",
              "        text-align: right;\n",
              "    }\n",
              "</style>\n",
              "<table border=\"1\" class=\"dataframe\">\n",
              "  <thead>\n",
              "    <tr style=\"text-align: right;\">\n",
              "      <th></th>\n",
              "      <th>mean</th>\n",
              "      <th>sd</th>\n",
              "      <th>hpd_3%</th>\n",
              "      <th>hpd_97%</th>\n",
              "      <th>mcse_mean</th>\n",
              "      <th>mcse_sd</th>\n",
              "      <th>ess_mean</th>\n",
              "      <th>ess_sd</th>\n",
              "      <th>ess_bulk</th>\n",
              "      <th>ess_tail</th>\n",
              "      <th>r_hat</th>\n",
              "    </tr>\n",
              "  </thead>\n",
              "  <tbody>\n",
              "    <tr>\n",
              "      <th>lambda</th>\n",
              "      <td>4.943</td>\n",
              "      <td>0.212</td>\n",
              "      <td>4.552</td>\n",
              "      <td>5.332</td>\n",
              "      <td>0.007</td>\n",
              "      <td>0.005</td>\n",
              "      <td>885.0</td>\n",
              "      <td>884.0</td>\n",
              "      <td>892.0</td>\n",
              "      <td>1406.0</td>\n",
              "      <td>NaN</td>\n",
              "    </tr>\n",
              "  </tbody>\n",
              "</table>\n",
              "</div>"
            ],
            "text/plain": [
              "         mean     sd  hpd_3%  hpd_97%  ...  ess_sd  ess_bulk  ess_tail  r_hat\n",
              "lambda  4.943  0.212   4.552    5.332  ...   884.0     892.0    1406.0    NaN\n",
              "\n",
              "[1 rows x 11 columns]"
            ]
          },
          "metadata": {
            "tags": []
          },
          "execution_count": 8
        },
        {
          "output_type": "display_data",
          "data": {
            "image/png": "[encoded data removed]",
            "text/plain": [
              "<Figure size 864x144 with 2 Axes>"
            ]
          },
          "metadata": {
            "tags": []
          }
        }
      ]
    },
    {
      "cell_type": "markdown",
      "metadata": {
        "id": "Bmnzi7VmWhF2",
        "colab_type": "text"
      },
      "source": [
        "Our sampler looks good - we've landed on the mean of our Poisson process. And I am really happy with the trace of the MCMC chain. Couple of things to address over the next week:  \n",
        "\n",
        "  - how do I run multiple chains?  \n",
        "  - why is RHat NaN?  \n",
        "\n",
        "For now though, let's move onto the eight schools example.  \n",
        "\n",
        "## Hierarchical modelling and the eight schools problem  \n",
        "\n",
        "Hierarchical / multi-level models are one of my favourite modelling techniques. Hierarchical components provide a way to capture repeat structure in your data - and this is *everywhere* in most datasets. For example:\n",
        "\n",
        "  1. sales businesses have repeat business to customers  \n",
        "  2. marketing datasets usually involve distinct groups of customers which share behaviours  \n",
        "  3. predictive maintenance tasks usually involve continual observations of machinery. For example, we monitor the time that it takes for database backups to complete; this can vary wildly from server to server, but they all share common traits (such as backup size, day of week etc).  \n",
        "\n",
        "Repeat observations are literally everywhere in real-world data. But this is often ignored in popular machine learning approaches, which can lead to over-inflatted accuracy scores, overfitting and incomplete models. Gleman discusses this at length in Chapter 15 of Bayesian Data Analysis. And McElreath goes as far as [stating](http://elevanth.org/blog/2017/08/24/multilevel-regression-as-default/): \"don't ask why you should a multilevel model. Ask instead, Why not?\"\n",
        "\n",
        "\n",
        "### The eight schools problem  \n",
        "\n",
        "The eight schools problem is a really nice application of hierarchical modelling to combine the results of multiple studies. Gelman uses this dataset in BDA3 to demonstrate how to combine results to strengthen the quality of the conclusions, whilst accounting for possible differences in the individual studies.\n",
        "\n",
        "Gelman spends quite a bit of time defining the scenario and setting up the problem, which is important as it helps to determine the model and aids with his interpretation of the results. I will paraphrase the problem below:  \n",
        "\n",
        "```\n",
        "SAT tests have been carefully designed to be resistant to short-term cramming \n",
        "or short-term training programmes. Instead, they are designed to test knowledge \n",
        "acquired over many years of education.\n",
        "\n",
        "However, there are a large number of \"schools\" which offer short, intense \n",
        "training programmes which they claim boost their student's SAT scores. \n",
        "\n",
        "Importantly, there is no reason to believe these claims and Gelman compares the \n",
        "reported results over eight different schools to assess the validity of their \n",
        "claims. Are those schools which claim to have a large success rate really so\n",
        "successful?\n",
        "\n",
        "\n",
        "Chapter 5, p. 119, Gelman, Bayesian Data Analysis 3.\n",
        "```\n",
        "\n",
        "\n",
        "Here's the data that we will analyse:"
      ]
    },
    {
      "cell_type": "code",
      "metadata": {
        "id": "eRGudme3ghzO",
        "colab_type": "code",
        "colab": {
          "base_uri": "https://localhost:8080/",
          "height": 297
        },
        "outputId": "471a588f-663d-4989-a65c-c4611e4aa579"
      },
      "source": [
        "schools = pd.DataFrame({\n",
        "    'School': ['A', 'B', 'C', 'D', 'E', 'F', 'G', 'H'],\n",
        "    'y': [28, 8, -3, 7, -1, 1, 18, 12],   # the estimated treatment effect\n",
        "    'sigma': [15, 10, 16, 11, 9, 11, 10, 18] #standard error of treatment effect\n",
        "})\n",
        "schools"
      ],
      "execution_count": 17,
      "outputs": [
        {
          "output_type": "execute_result",
          "data": {
            "text/html": [
              "<div>\n",
              "<style scoped>\n",
              "    .dataframe tbody tr th:only-of-type {\n",
              "        vertical-align: middle;\n",
              "    }\n",
              "\n",
              "    .dataframe tbody tr th {\n",
              "        vertical-align: top;\n",
              "    }\n",
              "\n",
              "    .dataframe thead th {\n",
              "        text-align: right;\n",
              "    }\n",
              "</style>\n",
              "<table border=\"1\" class=\"dataframe\">\n",
              "  <thead>\n",
              "    <tr style=\"text-align: right;\">\n",
              "      <th></th>\n",
              "      <th>School</th>\n",
              "      <th>y</th>\n",
              "      <th>sigma</th>\n",
              "    </tr>\n",
              "  </thead>\n",
              "  <tbody>\n",
              "    <tr>\n",
              "      <th>0</th>\n",
              "      <td>A</td>\n",
              "      <td>28</td>\n",
              "      <td>15</td>\n",
              "    </tr>\n",
              "    <tr>\n",
              "      <th>1</th>\n",
              "      <td>B</td>\n",
              "      <td>8</td>\n",
              "      <td>10</td>\n",
              "    </tr>\n",
              "    <tr>\n",
              "      <th>2</th>\n",
              "      <td>C</td>\n",
              "      <td>-3</td>\n",
              "      <td>16</td>\n",
              "    </tr>\n",
              "    <tr>\n",
              "      <th>3</th>\n",
              "      <td>D</td>\n",
              "      <td>7</td>\n",
              "      <td>11</td>\n",
              "    </tr>\n",
              "    <tr>\n",
              "      <th>4</th>\n",
              "      <td>E</td>\n",
              "      <td>-1</td>\n",
              "      <td>9</td>\n",
              "    </tr>\n",
              "    <tr>\n",
              "      <th>5</th>\n",
              "      <td>F</td>\n",
              "      <td>1</td>\n",
              "      <td>11</td>\n",
              "    </tr>\n",
              "    <tr>\n",
              "      <th>6</th>\n",
              "      <td>G</td>\n",
              "      <td>18</td>\n",
              "      <td>10</td>\n",
              "    </tr>\n",
              "    <tr>\n",
              "      <th>7</th>\n",
              "      <td>H</td>\n",
              "      <td>12</td>\n",
              "      <td>18</td>\n",
              "    </tr>\n",
              "  </tbody>\n",
              "</table>\n",
              "</div>"
            ],
            "text/plain": [
              "  School   y  sigma\n",
              "0      A  28     15\n",
              "1      B   8     10\n",
              "2      C  -3     16\n",
              "3      D   7     11\n",
              "4      E  -1      9\n",
              "5      F   1     11\n",
              "6      G  18     10\n",
              "7      H  12     18"
            ]
          },
          "metadata": {
            "tags": []
          },
          "execution_count": 17
        }
      ]
    },
    {
      "cell_type": "markdown",
      "metadata": {
        "id": "oNvohiVlhGgu",
        "colab_type": "text"
      },
      "source": [
        "Marketing materials for a school are likely to focus on the mean treatment effect. Based on this alone, School A seems to be incredibly successful - and might, therefore, be worth any expense for such a large gain. \n",
        "\n",
        "But, we are lucky to have the standard errors here as well, which are all very large. In light of these, it seems very unlikely that any school can reliably promise to yield positive results. I would expect our hierarchical meta-analysis to confirm this.\n",
        "\n",
        "### Hierarchical Models  \n",
        "\n",
        "I am going to draw from the [Stan User Guide](https://mc-stan.org/docs/2_18/stan-users-guide/meta-analysis.html) and [Daniel Lee's Lecture Notes](https://astrostatistics.psu.edu/su14/lectures/Daniel-Lee-Stan-2.pdf) for this. We will develop two models, the first without hierarchical pooling and the second with pooling.\n",
        "\n",
        "Let's begin with our first basic model, which will have the form:  \n",
        "\n",
        "$y \\sim Normal(\\theta, \\sigma) \\\\\n",
        "\\theta \\sim Normal(0, 100)$\n",
        "\n",
        "Here, we will assume that the schools are \"all lumped together\". That is, their results are drawn from some normal distribution and that they are all indepedent - knowing the results of any particular school doesn't necessarily inform our expectations of any other school.\n",
        "\n",
        "We're getting used to the Tensorflow Probability code now, so we'll define the log-prob function and then sample."
      ]
    },
    {
      "cell_type": "code",
      "metadata": {
        "id": "HOjr5NBUg7ZM",
        "colab_type": "code",
        "colab": {
          "base_uri": "https://localhost:8080/",
          "height": 249
        },
        "outputId": "776b9448-5677-43bf-e1fb-6da69a413077"
      },
      "source": [
        "reset_sess()\n",
        "\n",
        "def joint_log_prob(y, sigma, theta):\n",
        "  \"\"\"\n",
        "  Eight schools Model One: no pooling\n",
        "\n",
        "  Parameters:\n",
        "  -----------\n",
        "    @y: observed treatment effects\n",
        "    @sigma: standard error of these treatment effects  \n",
        "    @theta: the mean effect, which we will attempt to estimate\n",
        "  \"\"\"\n",
        "  \n",
        "  prior_theta = tfd.Normal(0, 100)\n",
        "  rv_treatment = tfd.Normal(theta, sigma)\n",
        "  \n",
        "  log_lik = (\n",
        "      prior_theta.log_prob(theta) +\n",
        "      tf.reduce_sum(rv_treatment.log_prob(y))\n",
        "  )\n",
        "  \n",
        "  return log_lik\n",
        "\n",
        "def unnormalised_posterior(theta):\n",
        "  return joint_log_prob(y, sigma, theta)\n",
        "  \n",
        "[y, sigma] = [\n",
        "   np.array([x for x in schools.y], dtype=np.float32),\n",
        "   np.array([x for x in schools.sigma], dtype=np.float32)\n",
        "]\n",
        "[theta_, trace] = run_sampler(\n",
        "    model = unnormalised_posterior,\n",
        "    nparams = 1,\n",
        "    trace_fn = trace_fn\n",
        ")\n",
        "\n",
        "\n",
        "trace1 = az.from_tfp(theta_, var_names = [\"theta\"])\n",
        "az.plot_trace(trace1)\n",
        "\n",
        "az.summary(trace1)"
      ],
      "execution_count": 20,
      "outputs": [
        {
          "output_type": "stream",
          "text": [
            "arviz.stats.stats_utils - WARNING - Shape validation failed: input_shape: (1, 2000), minimum_shape: (chains=2, draws=4)\n"
          ],
          "name": "stderr"
        },
        {
          "output_type": "execute_result",
          "data": {
            "text/html": [
              "<div>\n",
              "<style scoped>\n",
              "    .dataframe tbody tr th:only-of-type {\n",
              "        vertical-align: middle;\n",
              "    }\n",
              "\n",
              "    .dataframe tbody tr th {\n",
              "        vertical-align: top;\n",
              "    }\n",
              "\n",
              "    .dataframe thead th {\n",
              "        text-align: right;\n",
              "    }\n",
              "</style>\n",
              "<table border=\"1\" class=\"dataframe\">\n",
              "  <thead>\n",
              "    <tr style=\"text-align: right;\">\n",
              "      <th></th>\n",
              "      <th>mean</th>\n",
              "      <th>sd</th>\n",
              "      <th>hpd_3%</th>\n",
              "      <th>hpd_97%</th>\n",
              "      <th>mcse_mean</th>\n",
              "      <th>mcse_sd</th>\n",
              "      <th>ess_mean</th>\n",
              "      <th>ess_sd</th>\n",
              "      <th>ess_bulk</th>\n",
              "      <th>ess_tail</th>\n",
              "      <th>r_hat</th>\n",
              "    </tr>\n",
              "  </thead>\n",
              "  <tbody>\n",
              "    <tr>\n",
              "      <th>theta</th>\n",
              "      <td>7.697</td>\n",
              "      <td>4.072</td>\n",
              "      <td>0.343</td>\n",
              "      <td>15.248</td>\n",
              "      <td>0.131</td>\n",
              "      <td>0.093</td>\n",
              "      <td>966.0</td>\n",
              "      <td>966.0</td>\n",
              "      <td>962.0</td>\n",
              "      <td>1290.0</td>\n",
              "      <td>NaN</td>\n",
              "    </tr>\n",
              "  </tbody>\n",
              "</table>\n",
              "</div>"
            ],
            "text/plain": [
              "        mean     sd  hpd_3%  hpd_97%  ...  ess_sd  ess_bulk  ess_tail  r_hat\n",
              "theta  7.697  4.072   0.343   15.248  ...   966.0     962.0    1290.0    NaN\n",
              "\n",
              "[1 rows x 11 columns]"
            ]
          },
          "metadata": {
            "tags": []
          },
          "execution_count": 20
        },
        {
          "output_type": "display_data",
          "data": {
            "image/png": "[encoded data removed]",
            "text/plain": [
              "<Figure size 864x144 with 2 Axes>"
            ]
          },
          "metadata": {
            "tags": []
          }
        }
      ]
    },
    {
      "cell_type": "markdown",
      "metadata": {
        "id": "EpgTlq8v1cU6",
        "colab_type": "text"
      },
      "source": [
        "As a starting point, this is certainly interesting. Our model suggests that there is an overall positive effect across these schools, with a mean effect of approx. 7.7 with a standard error of 4. Or, approximately [8 +/- 8]. This is exactly what Gelman reports in pg. 120 of BDA3. \n",
        "\n",
        "\n",
        "This is a great start. Unfortunately, I haven't figured out how to create the hierarchical model yet :( I really need to wrap my head around this - so will end this notebook here today and continue with this tomorrow.\n",
        "\n",
        "\n",
        "For tomorrow, I will draw on this amazing walkthrough from the TFP team: https://github.com/tensorflow/probability/blob/master/tensorflow_probability/examples/jupyter_notebooks/Multilevel_Modeling_Primer.ipynb  and see how we go extending this to the eight schools data."
      ]
    },
    {
      "cell_type": "code",
      "metadata": {
        "id": "1th7NpHFBtFl",
        "colab_type": "code",
        "colab": {}
      },
      "source": [
        ""
      ],
      "execution_count": 0,
      "outputs": []
    }
  ]
}