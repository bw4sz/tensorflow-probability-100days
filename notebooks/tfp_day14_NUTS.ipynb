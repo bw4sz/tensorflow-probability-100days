{
  "nbformat": 4,
  "nbformat_minor": 0,
  "metadata": {
    "colab": {
      "name": "tfp_day14_NUTS.ipynb",
      "provenance": [],
      "collapsed_sections": []
    },
    "kernelspec": {
      "name": "python3",
      "display_name": "Python 3"
    }
  },
  "cells": [
    {
      "cell_type": "markdown",
      "metadata": {
        "id": "7YPahGihs8KO",
        "colab_type": "text"
      },
      "source": [
        "## Tensorflow Probability - Tuning with the Milk Analysis of Masked Effects  \n",
        "### Day 14/100 Days of TensorFlow Probability  \n",
        "\n",
        "In my last notebook, I reproduced the Richard McElreath's analysis of masking variables using the Milk dataset (see [Chpt 5. Statistical Rethinking](https://xcelab.net/rm/statistical-rethinking/)).\n",
        "\n",
        "Qualitatively, my results matched McElreath's. Specifically, I was able to reproduce the relationship between energy content and brain mass. However, my analyses struggled quite a bit when adding the `neocortex.prec` feature to the models. In contrast, Paul-Christian Brukner was able to reproduce McElreath's results exactly in brms (see \n",
        "[BRMS - Masked relationship](https://bookdown.org/ajkurz/Statistical_Rethinking_recoded/multivariate-linear-models.html#masked-relationship)).\n",
        "\n",
        "\n",
        "\n",
        "I have some suspicions about why my results were subtly different:  \n",
        "\n",
        "  - McElreath's Rethinking package and Brukner's brms both use Stan under the hood and Stan uses the NoUTurn sampler (NUTS). However, I used a Hamiltonian Monte Carlo sampler. Perhaps this was the difference?  \n",
        "  - alternatively, perhaps I need to tune the step_size in my sampler to allow it is explore more?  \n",
        "  \n",
        "I am going to explore these here. I have no idea if any of this will work, but let's find out.  \n",
        "\n",
        "### Setup  \n",
        "\n",
        "The NoUTurn Sampler is a reasonably new addition to tensorflow probability. You will need to check that you have version 0.8.0. Run the cell below, and if it isn't 0.8.0, then run the `pip3 install` cell as well."
      ]
    },
    {
      "cell_type": "code",
      "metadata": {
        "id": "h79FBhL5x5mG",
        "colab_type": "code",
        "outputId": "40f6da4e-f280-4d37-ea43-9820e154a49b",
        "colab": {
          "base_uri": "https://localhost:8080/",
          "height": 34
        }
      },
      "source": [
        "import tensorflow_probability as tfp\n",
        "\n",
        "tfp.__version__"
      ],
      "execution_count": 13,
      "outputs": [
        {
          "output_type": "execute_result",
          "data": {
            "text/plain": [
              "'0.8.0'"
            ]
          },
          "metadata": {
            "tags": []
          },
          "execution_count": 13
        }
      ]
    },
    {
      "cell_type": "code",
      "metadata": {
        "id": "vyF-1yrNx1eh",
        "colab_type": "code",
        "colab": {}
      },
      "source": [
        "! pip3 install -q --upgrade tensorflow-probability==0.8.0"
      ],
      "execution_count": 0,
      "outputs": []
    },
    {
      "cell_type": "markdown",
      "metadata": {
        "id": "KqevD9dfd9xg",
        "colab_type": "text"
      },
      "source": [
        "We'll load the packages we need, create the `reset_sess()` function, define our `hmc` sample, the `nuts` sampler and `run_chain()` function."
      ]
    },
    {
      "cell_type": "code",
      "metadata": {
        "id": "I6JnB-pks7jN",
        "colab_type": "code",
        "colab": {}
      },
      "source": [
        "import collections\n",
        "import numpy as np\n",
        "import pandas as pd\n",
        "import seaborn as sns\n",
        "\n",
        "import tensorflow as tf\n",
        "import tensorflow_probability as tfp\n",
        "tfd = tfp.distributions\n",
        "tfb = tfp.bijectors\n",
        "\n",
        "try:\n",
        "  tf.compat.v1.enable_eager_execution()\n",
        "except ValueError:\n",
        "  pass\n",
        "\n",
        "import matplotlib.pyplot as plt\n",
        "\n",
        "from __future__ import print_function\n",
        "\n",
        "def reset_sess(config=None):\n",
        "    \"\"\"\n",
        "    Convenience function to create the TF graph & session or reset them.\n",
        "    \"\"\"\n",
        "\n",
        "    global sess\n",
        "    tf.reset_default_graph()\n",
        "    try:\n",
        "        sess.close()\n",
        "    except:\n",
        "        pass\n",
        "    sess = tf.InteractiveSession(config=config)\n",
        "\n",
        "# global parameteres\n",
        "NUM_POSTERIOR_SAMPLES = 5000\n",
        "NUM_BURNIN_ITERATIONS = 2000\n",
        "NUM_ADAPTATION = int(0.5 * NUM_BURNIN_ITERATIONS)\n",
        "\n",
        "\n",
        "def construct_hmc(log_posterior, adaptation_steps = NUM_ADAPTATION):\n",
        "  \n",
        "  \"\"\"\n",
        "  Define a reaonsably \"vanilla\" HMC chain.\n",
        "  \n",
        "  Parameters\n",
        "  ----------\n",
        "    @log_posterior: function of the joint posterior distribution\n",
        "    \n",
        "  \"\"\"  \n",
        "  \n",
        "  hmc = tfp.mcmc.SimpleStepSizeAdaptation(\n",
        "\n",
        "      # The actual HMC is very simple to define\n",
        "      tfp.mcmc.HamiltonianMonteCarlo(\n",
        "          target_log_prob_fn = log_posterior,    # Log Posterior goes here\n",
        "          num_leapfrog_steps = 3,\n",
        "          step_size = 1                          # constant step size\n",
        "      ),\n",
        "      num_adaptation_steps = adaptation_steps\n",
        "  )\n",
        "  \n",
        "  return hmc\n",
        "\n",
        "def construct_nuts(log_posterior, adaptation_steps = NUM_ADAPTATION):\n",
        "  \n",
        "  \"\"\"\n",
        "  Define a \"vanilla\" NoUTurn sampler, for direct comparison with Stan.\n",
        "  \n",
        "  Documentation: \n",
        "  \n",
        "  https://www.tensorflow.org/probability/api_docs/python/tfp/mcmc/NoUTurnSampler\n",
        "  \"\"\"\n",
        "  \n",
        "  nuts = tfp.mcmc.DualAveragingStepSizeAdaptation(\n",
        "        tfp.mcmc.TransformedTransitionKernel(\n",
        "            inner_kernel=tfp.mcmc.NoUTurnSampler(\n",
        "                target_log_prob_fn = log_posterior,\n",
        "                step_size=1.0\n",
        "            ),\n",
        "            bijector=[tfb.Identity()] * 3\n",
        "        ),\n",
        "        target_accept_prob=.8,\n",
        "        num_adaptation_steps=adaptation_steps,\n",
        "        step_size_setter_fn=lambda pkr, new_step_size: pkr._replace(\n",
        "              inner_results=pkr.inner_results._replace(step_size=new_step_size)\n",
        "          ),\n",
        "        step_size_getter_fn=lambda pkr: pkr.inner_results.step_size,\n",
        "        log_accept_prob_getter_fn=lambda pkr: pkr.inner_results.log_accept_ratio,\n",
        "    )\n",
        "  \n",
        "  return nuts\n",
        "  \n",
        "  \n",
        "@tf.function\n",
        "def run_chain(kernel, inits=[], iters = [NUM_POSTERIOR_SAMPLES, NUM_BURNIN_ITERATIONS]):\n",
        "  \n",
        "  \"\"\"\n",
        "  Extract samples from HMC chain\n",
        "  \n",
        "  Parameters\n",
        "  ----------\n",
        "    @hmc: a MonteCarlo chain (returned from construct_hmc())\n",
        "    @initial_state: starting point for the chain\n",
        "    @iters: list [length of chain, burnin iterations]\n",
        "    \n",
        "  Returns\n",
        "  -------\n",
        "    samples: list of posterior samples for each parameter estimated\n",
        "    \n",
        "  \"\"\"\n",
        "  \n",
        "  samples, is_accepted = tfp.mcmc.sample_chain(\n",
        "      num_results = iters[0],\n",
        "      num_burnin_steps = iters[1],\n",
        "      current_state = inits,\n",
        "      kernel = kernel\n",
        "  )\n",
        "  \n",
        "  \n",
        "  \n",
        "  return samples\n",
        "\n",
        "# These are optimisations - they make a HUGE difference to the speed of sampling\n",
        "# see: https://adamhaber.github.io/2019/10/21/Bayesian-golf-puttings,-NUTS,-and-optimizing-your-sampling-function-with-TensorFlow-Probability.html\n",
        "run_chain_xla = tf.function(run_chain, autograph = False, experimental_compile = True)"
      ],
      "execution_count": 0,
      "outputs": []
    },
    {
      "cell_type": "markdown",
      "metadata": {
        "id": "D9CWDPdEvYmM",
        "colab_type": "text"
      },
      "source": [
        "### Milk Dataset  \n",
        "\n",
        "We'll grab the Milk dataset from McElrath's GitHub repo:"
      ]
    },
    {
      "cell_type": "code",
      "metadata": {
        "id": "rlvXIY-bvTa9",
        "colab_type": "code",
        "outputId": "15c92198-c70f-43c1-cfac-933abe722b79",
        "colab": {
          "base_uri": "https://localhost:8080/",
          "height": 204
        }
      },
      "source": [
        "milk_url = \"https://raw.githubusercontent.com/rmcelreath/rethinking/master/data/milk.csv\"\n",
        "milk = pd.read_csv(milk_url, sep=\";\")\n",
        "\n",
        "milk.head()"
      ],
      "execution_count": 16,
      "outputs": [
        {
          "output_type": "execute_result",
          "data": {
            "text/html": [
              "<div>\n",
              "<style scoped>\n",
              "    .dataframe tbody tr th:only-of-type {\n",
              "        vertical-align: middle;\n",
              "    }\n",
              "\n",
              "    .dataframe tbody tr th {\n",
              "        vertical-align: top;\n",
              "    }\n",
              "\n",
              "    .dataframe thead th {\n",
              "        text-align: right;\n",
              "    }\n",
              "</style>\n",
              "<table border=\"1\" class=\"dataframe\">\n",
              "  <thead>\n",
              "    <tr style=\"text-align: right;\">\n",
              "      <th></th>\n",
              "      <th>clade</th>\n",
              "      <th>species</th>\n",
              "      <th>kcal.per.g</th>\n",
              "      <th>perc.fat</th>\n",
              "      <th>perc.protein</th>\n",
              "      <th>perc.lactose</th>\n",
              "      <th>mass</th>\n",
              "      <th>neocortex.perc</th>\n",
              "    </tr>\n",
              "  </thead>\n",
              "  <tbody>\n",
              "    <tr>\n",
              "      <th>0</th>\n",
              "      <td>Strepsirrhine</td>\n",
              "      <td>Eulemur fulvus</td>\n",
              "      <td>0.49</td>\n",
              "      <td>16.60</td>\n",
              "      <td>15.42</td>\n",
              "      <td>67.98</td>\n",
              "      <td>1.95</td>\n",
              "      <td>55.16</td>\n",
              "    </tr>\n",
              "    <tr>\n",
              "      <th>1</th>\n",
              "      <td>Strepsirrhine</td>\n",
              "      <td>E macaco</td>\n",
              "      <td>0.51</td>\n",
              "      <td>19.27</td>\n",
              "      <td>16.91</td>\n",
              "      <td>63.82</td>\n",
              "      <td>2.09</td>\n",
              "      <td>NaN</td>\n",
              "    </tr>\n",
              "    <tr>\n",
              "      <th>2</th>\n",
              "      <td>Strepsirrhine</td>\n",
              "      <td>E mongoz</td>\n",
              "      <td>0.46</td>\n",
              "      <td>14.11</td>\n",
              "      <td>16.85</td>\n",
              "      <td>69.04</td>\n",
              "      <td>2.51</td>\n",
              "      <td>NaN</td>\n",
              "    </tr>\n",
              "    <tr>\n",
              "      <th>3</th>\n",
              "      <td>Strepsirrhine</td>\n",
              "      <td>E rubriventer</td>\n",
              "      <td>0.48</td>\n",
              "      <td>14.91</td>\n",
              "      <td>13.18</td>\n",
              "      <td>71.91</td>\n",
              "      <td>1.62</td>\n",
              "      <td>NaN</td>\n",
              "    </tr>\n",
              "    <tr>\n",
              "      <th>4</th>\n",
              "      <td>Strepsirrhine</td>\n",
              "      <td>Lemur catta</td>\n",
              "      <td>0.60</td>\n",
              "      <td>27.28</td>\n",
              "      <td>19.50</td>\n",
              "      <td>53.22</td>\n",
              "      <td>2.19</td>\n",
              "      <td>NaN</td>\n",
              "    </tr>\n",
              "  </tbody>\n",
              "</table>\n",
              "</div>"
            ],
            "text/plain": [
              "           clade         species  ...  mass  neocortex.perc\n",
              "0  Strepsirrhine  Eulemur fulvus  ...  1.95           55.16\n",
              "1  Strepsirrhine        E macaco  ...  2.09             NaN\n",
              "2  Strepsirrhine        E mongoz  ...  2.51             NaN\n",
              "3  Strepsirrhine   E rubriventer  ...  1.62             NaN\n",
              "4  Strepsirrhine     Lemur catta  ...  2.19             NaN\n",
              "\n",
              "[5 rows x 8 columns]"
            ]
          },
          "metadata": {
            "tags": []
          },
          "execution_count": 16
        }
      ]
    },
    {
      "cell_type": "markdown",
      "metadata": {
        "id": "-kYBEXC-vjID",
        "colab_type": "text"
      },
      "source": [
        "### Experiment 1: `kcal.per.g ~ neocrotex.perc`  \n",
        "\n",
        "The HMC struggled with this analyses previously. I suspect this is because there is no significant effect, so no real signal. But in that case, I would have expected the chains to settle around the priors, not struggle so much.\n",
        "\n",
        "I will run this in both the hmc and the nuts samplers and see if there are any differences. Here is the model:\n",
        "\n",
        "$$\n",
        "kcal.per.g \\sim Normal(\\mu, \\sigma) \\\\\n",
        "\\mu = \\alpha + \\beta . neocrotexperc \\\\\n",
        "\\alpha \\sim Normal(0, 100) \\\\\n",
        "\\beta \\sim Normal(0, 1) \\\\\n",
        "\\sigma \\sim Uniform(0, 1)\n",
        "$$\n",
        "\n",
        "\n",
        "**HMC Results**"
      ]
    },
    {
      "cell_type": "code",
      "metadata": {
        "id": "0p5EMB45vexV",
        "colab_type": "code",
        "outputId": "636c01e2-fc88-4173-c2f6-d1b9eafd1d7c",
        "colab": {
          "base_uri": "https://localhost:8080/",
          "height": 869
        }
      },
      "source": [
        "reset_sess()\n",
        "\n",
        "def joint_log_prob(neocortex, calories, alpha, beta, sigma):\n",
        "  \"\"\"\n",
        "  Model the relationship between energy content and percentage of the\n",
        "  brain which is neocortex.\n",
        "  \"\"\"\n",
        "  \n",
        "  prior_alpha = tfd.Normal(0., 100.)\n",
        "  prior_beta = tfd.Normal(0., 1.)\n",
        "  prior_sigma = tfd.Uniform(0., 1.)\n",
        "  \n",
        "  mu = alpha + beta * neocortex\n",
        "  rv_calories = tfd.Normal(loc = mu, scale = sigma)\n",
        "  \n",
        "  log_lik = (\n",
        "      prior_alpha.log_prob(alpha) +\n",
        "      prior_beta.log_prob(beta) +\n",
        "      prior_sigma.log_prob(sigma) +\n",
        "      tf.reduce_sum(rv_calories.log_prob(calories))\n",
        "  )\n",
        "  \n",
        "  return log_lik\n",
        "\n",
        "def unnormalised_posterior(alpha, beta, sigma):\n",
        "  return joint_log_prob(neocortex, calories, alpha, beta, sigma)\n",
        "\n",
        "# drop NA rows\n",
        "milk.dropna(inplace = True)\n",
        "  \n",
        "# setup variables\n",
        "# NOTE: the dtype declarations are necessary, otherwise it throws\n",
        "#       a datatype error\n",
        "[calories, neocortex] = [\n",
        "    tf.convert_to_tensor(milk['kcal.per.g'].values, dtype=np.float32),\n",
        "    tf.convert_to_tensor(milk['neocortex.perc'].values, dtype=np.float32)\n",
        "]\n",
        "\n",
        "# run our chain\n",
        "[alpha_, beta_, sigma_] = run_chain(\n",
        "    construct_hmc(unnormalised_posterior, adaptation_steps = 10000),\n",
        "    inits = [0.1, 0.1, 0.1],\n",
        "    iters = [30000, 20000]\n",
        ")\n",
        "\n",
        "sns.distplot(alpha_, label = \"posterior\")\n",
        "plt.title(\"$\\\\alpha (mean = {:.3f})$\".format(np.mean(alpha_)))\n",
        "plt.show()\n",
        "\n",
        "sns.distplot(beta_, label = \"posterior\")\n",
        "plt.title(\"$\\\\beta (mean = {:.3f})$\".format(np.mean(beta_)))\n",
        "plt.show()\n",
        "\n",
        "sns.distplot(sigma_, label = \"posterior\")\n",
        "plt.title(\"$\\\\sigma (mean = {:.3f})$\".format(np.mean(sigma_)))\n",
        "plt.show()"
      ],
      "execution_count": 19,
      "outputs": [
        {
          "output_type": "stream",
          "text": [
            "/usr/local/lib/python3.6/dist-packages/tensorflow_probability/python/mcmc/sample.py:336: UserWarning: Tracing all kernel results by default is deprecated. Set the `trace_fn` argument to None (the future default value) or an explicit callback that traces the values you are interested in.\n",
            "  warnings.warn(\"Tracing all kernel results by default is deprecated. Set \"\n"
          ],
          "name": "stderr"
        },
        {
          "output_type": "display_data",
          "data": {
            "image/png": "[encoded data removed]",
            "text/plain": [
              "<Figure size 432x288 with 1 Axes>"
            ]
          },
          "metadata": {
            "tags": []
          }
        },
        {
          "output_type": "display_data",
          "data": {
            "image/png": "[encoded data removed]",
            "text/plain": [
              "<Figure size 432x288 with 1 Axes>"
            ]
          },
          "metadata": {
            "tags": []
          }
        },
        {
          "output_type": "display_data",
          "data": {
            "image/png": "[encoded data removed]",
            "text/plain": [
              "<Figure size 432x288 with 1 Axes>"
            ]
          },
          "metadata": {
            "tags": []
          }
        }
      ]
    },
    {
      "cell_type": "code",
      "metadata": {
        "id": "wigu_YKDwE_u",
        "colab_type": "code",
        "colab": {}
      },
      "source": [
        ""
      ],
      "execution_count": 0,
      "outputs": []
    },
    {
      "cell_type": "markdown",
      "metadata": {
        "id": "Af_2USGewFmp",
        "colab_type": "text"
      },
      "source": [
        "You can see how the \"vanilla\" HMC has really struggled here. However, it is interesting to note that the results are actually much, much better using tensorflow-probability version 0.8.0 than they are for version 0.7.0!!! This is interesting. \n",
        "\n",
        "These results are still multimodal, and look like they haven't really converged yet. I could run longer chains perhaps. I also need to dig into chain convergence diagnostics in future posts. \n",
        "\n",
        "But numerically, they are closer to McElreath's results than they were previously.  \n",
        "\n",
        "\n",
        "**NUTS**  \n",
        "Let's see if there is any difference using the NUTS sampler:"
      ]
    },
    {
      "cell_type": "code",
      "metadata": {
        "id": "h84x-w5iwbbc",
        "colab_type": "code",
        "outputId": "e00ff295-d28e-4e6d-848e-11ca52676d65",
        "colab": {
          "base_uri": "https://localhost:8080/",
          "height": 869
        }
      },
      "source": [
        "reset_sess()\n",
        "\n",
        "# milk_scaled = milk.copy()\n",
        "# for x in ['kcal.per.g', 'neocortex.perc']:\n",
        "#   mu = np.mean(milk_scaled[x])\n",
        "#   sigma = np.std(milk_scaled[x])\n",
        "  \n",
        "#   milk_scaled[x] = [(z - mu)/sigma for z in milk_scaled[x].values]\n",
        "  \n",
        "# setup variables\n",
        "# NOTE: the dtype declarations are necessary, otherwise it throws\n",
        "#       a datatype error\n",
        "[calories, neocortex] = [\n",
        "    tf.convert_to_tensor(milk['kcal.per.g'].values, dtype=np.float32),\n",
        "    tf.convert_to_tensor(milk['neocortex.perc'].values, dtype=np.float32)\n",
        "]\n",
        "\n",
        "# run our chain\n",
        "[alpha_, beta_, sigma_] = run_chain_xla(\n",
        "    construct_nuts(unnormalised_posterior, adaptation_steps = 5000),\n",
        "    inits = [0.01]*3,\n",
        "    iters = [20000, 10000]\n",
        ")\n",
        "\n",
        "sns.distplot(alpha_, label = \"posterior\")\n",
        "plt.title(\"$\\\\alpha (mean = {:.3f})$\".format(np.mean(alpha_)))\n",
        "plt.show()\n",
        "\n",
        "sns.distplot(beta_, label = \"posterior\")\n",
        "plt.title(\"$\\\\beta (mean = {:.3f})$\".format(np.mean(beta_)))\n",
        "plt.show()\n",
        "\n",
        "sns.distplot(sigma_, label = \"posterior\")\n",
        "plt.title(\"$\\\\sigma (mean = {:.3f})$\".format(np.mean(sigma_)))\n",
        "plt.show()"
      ],
      "execution_count": 29,
      "outputs": [
        {
          "output_type": "stream",
          "text": [
            "/usr/local/lib/python3.6/dist-packages/tensorflow_probability/python/mcmc/sample.py:336: UserWarning: Tracing all kernel results by default is deprecated. Set the `trace_fn` argument to None (the future default value) or an explicit callback that traces the values you are interested in.\n",
            "  warnings.warn(\"Tracing all kernel results by default is deprecated. Set \"\n"
          ],
          "name": "stderr"
        },
        {
          "output_type": "display_data",
          "data": {
            "image/png": "[encoded data removed]",
            "text/plain": [
              "<Figure size 432x288 with 1 Axes>"
            ]
          },
          "metadata": {
            "tags": []
          }
        },
        {
          "output_type": "display_data",
          "data": {
            "image/png": "[encoded data removed]",
            "text/plain": [
              "<Figure size 432x288 with 1 Axes>"
            ]
          },
          "metadata": {
            "tags": []
          }
        },
        {
          "output_type": "display_data",
          "data": {
            "image/png": "[encoded data removed]",
            "text/plain": [
              "<Figure size 432x288 with 1 Axes>"
            ]
          },
          "metadata": {
            "tags": []
          }
        }
      ]
    },
    {
      "cell_type": "markdown",
      "metadata": {
        "id": "3IqTkNl6zJsJ",
        "colab_type": "text"
      },
      "source": [
        "Wow - that's the difference. That's incredible. \n",
        "\n",
        "I need to spend some time digging into this more. But, will leave this for today and spend some quality time on this over the next week."
      ]
    },
    {
      "cell_type": "code",
      "metadata": {
        "id": "6axTEE13wetm",
        "colab_type": "code",
        "colab": {}
      },
      "source": [
        ""
      ],
      "execution_count": 0,
      "outputs": []
    }
  ]
}